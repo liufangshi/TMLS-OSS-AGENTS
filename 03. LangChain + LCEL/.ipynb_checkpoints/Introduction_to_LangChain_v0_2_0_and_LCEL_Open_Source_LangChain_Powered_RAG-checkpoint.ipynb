{
 "cells": [
  {
   "cell_type": "markdown",
   "metadata": {
    "id": "47eTBHYNP4g1"
   },
   "source": [
    "# Introduction to LangChain v0.2.0 and LCEL: Open-Source LangChain Powered RAG\n",
    "\n",
    "In the following notebook we're going to focus on learning how to navigate and build useful applications using LangChain, specifically LCEL, and how to integrate different APIs together into a coherent RAG application!\n",
    "\n",
    "Let's get started!\n",
    "\n"
   ]
  },
  {
   "cell_type": "markdown",
   "metadata": {
    "id": "aVHd6POM0JFN"
   },
   "source": [
    "## Task 1: Installing Required Libraries\n",
    "\n",
    "One of the [key features](https://blog.langchain.dev/langchain-v02-leap-to-stability/) of LangChain v0.2.0 is the compartmentalization of the various LangChain ecosystem packages and added stability.\n",
    "\n",
    "Instead of one all encompassing Python package - LangChain has a `core` package and a number of additional supplementary packages.\n",
    "\n",
    "We'll start by grabbing all of our LangChain related packages!"
   ]
  },
  {
   "cell_type": "code",
   "execution_count": 1,
   "metadata": {
    "colab": {
     "base_uri": "https://localhost:8080/"
    },
    "id": "nCC2AR-Q0m0x",
    "outputId": "a657c03d-656d-47a4-e211-2e0abac86fbe"
   },
   "outputs": [],
   "source": [
    "!pip install -qU langchain langchain-core langchain-community langchain-openai langchain-huggingface"
   ]
  },
  {
   "cell_type": "markdown",
   "metadata": {
    "id": "S5ELHQjQ1PYs"
   },
   "source": [
    "Now we can get our Qdrant dependencies!"
   ]
  },
  {
   "cell_type": "code",
   "execution_count": 2,
   "metadata": {
    "colab": {
     "base_uri": "https://localhost:8080/"
    },
    "id": "76XeYI9P1OXO",
    "outputId": "28d1dee1-1831-4968-a828-ce69eac05484"
   },
   "outputs": [],
   "source": [
    "!pip install -qU qdrant-client"
   ]
  },
  {
   "cell_type": "markdown",
   "metadata": {
    "id": "Iesey9OGCKJx"
   },
   "source": [
    "Let's finally get `tiktoken` and `pymupdf` so we can leverage them later on!"
   ]
  },
  {
   "cell_type": "code",
   "execution_count": 3,
   "metadata": {
    "colab": {
     "base_uri": "https://localhost:8080/"
    },
    "id": "K5qIUrFuENrS",
    "outputId": "04320314-3a7c-47f4-9ac1-856279cc12e3"
   },
   "outputs": [],
   "source": [
    "!pip install -qU pymupdf"
   ]
  },
  {
   "cell_type": "markdown",
   "metadata": {
    "id": "sl6wTp9C5qbY"
   },
   "source": [
    "## Task 2: Set Environment Variables\n",
    "\n",
    "In order to provide a smooth and expected experience - we will overwrite the `OPENAI_API_KEY` env. variable with our HUGGING FACE TOKEN."
   ]
  },
  {
   "cell_type": "code",
   "execution_count": 4,
   "metadata": {
    "colab": {
     "base_uri": "https://localhost:8080/"
    },
    "id": "7pKAfycq73wE",
    "outputId": "ed7334e2-3c37-48f7-be15-c956bdd5a9f6"
   },
   "outputs": [
    {
     "name": "stdin",
     "output_type": "stream",
     "text": [
      "Hugging Face API Key: ········\n"
     ]
    }
   ],
   "source": [
    "import os\n",
    "import getpass\n",
    "\n",
    "os.environ[\"OPENAI_API_KEY\"] = getpass.getpass(\"Hugging Face API Key:\")"
   ]
  },
  {
   "cell_type": "markdown",
   "metadata": {
    "id": "7zYoU7bIK4bo"
   },
   "source": [
    "We are similarly going to overwrite our `OPENAI_BASE_URL` with the URL for our Hugging Face Inference Endpoint!"
   ]
  },
  {
   "cell_type": "code",
   "execution_count": 5,
   "metadata": {
    "id": "ZY8Ef8QE_0GD"
   },
   "outputs": [],
   "source": [
    "HF_LLM_URL = \"https://meqlao8jlyg1d5w2.us-east-1.aws.endpoints.huggingface.cloud\" + \"/v1/\""
   ]
  },
  {
   "cell_type": "code",
   "execution_count": 6,
   "metadata": {
    "id": "kvBFNkA4KuIg"
   },
   "outputs": [],
   "source": [
    "os.environ[\"OPENAI_BASE_URL\"] = HF_LLM_URL"
   ]
  },
  {
   "cell_type": "markdown",
   "metadata": {
    "id": "Q_xp54wIA56_"
   },
   "source": [
    "## Task 3: Initialize a Simple Chain using LCEL\n",
    "\n",
    "The first thing we'll do is familiarize ourselves with LCEL and the specific ins and outs of how we can use it!"
   ]
  },
  {
   "cell_type": "markdown",
   "metadata": {
    "id": "SyGdhbS6SkD1"
   },
   "source": [
    "### LLM Orchestration Tool (LangChain)\n",
    "\n",
    "Let's dive right into [LangChain](https://www.langchain.com/)!\n",
    "\n",
    "The first thing we want to do is create an object that lets us access our model hosted on Hugging Face's Inference Endpoints."
   ]
  },
  {
   "cell_type": "code",
   "execution_count": 7,
   "metadata": {
    "id": "3Uj6SorxMj8e"
   },
   "outputs": [],
   "source": [
    "from langchain_openai import ChatOpenAI\n",
    "\n",
    "hf_llm = ChatOpenAI(\n",
    "    model=\"tgi\",\n",
    ")"
   ]
  },
  {
   "cell_type": "markdown",
   "metadata": {
    "id": "9nU8SlHfH41T"
   },
   "source": [
    "### Prompt Template"
   ]
  },
  {
   "cell_type": "markdown",
   "metadata": {
    "id": "dcMKLZWBVYm7"
   },
   "source": [
    "Now, we'll set up a prompt template - more specifically a `ChatPromptTemplate`. This will let us build a prompt we can modify when we call our LLM!"
   ]
  },
  {
   "cell_type": "code",
   "execution_count": 8,
   "metadata": {
    "id": "Z770j4zPS3o5"
   },
   "outputs": [],
   "source": [
    "from langchain_core.prompts import ChatPromptTemplate\n",
    "\n",
    "system_template = \"You are a legendary and mythical Wizard. You speak in riddles and make obscure and pun-filled references to exotic cheeses.\"\n",
    "human_template = \"{content}\"\n",
    "\n",
    "chat_prompt = ChatPromptTemplate.from_messages([\n",
    "    (\"system\", system_template),\n",
    "    (\"human\", human_template)\n",
    "])"
   ]
  },
  {
   "cell_type": "code",
   "execution_count": 9,
   "metadata": {},
   "outputs": [
    {
     "data": {
      "text/plain": [
       "ChatPromptTemplate(input_variables=['content'], messages=[SystemMessagePromptTemplate(prompt=PromptTemplate(input_variables=[], template='You are a legendary and mythical Wizard. You speak in riddles and make obscure and pun-filled references to exotic cheeses.')), HumanMessagePromptTemplate(prompt=PromptTemplate(input_variables=['content'], template='{content}'))])"
      ]
     },
     "execution_count": 9,
     "metadata": {},
     "output_type": "execute_result"
    }
   ],
   "source": [
    "chat_prompt"
   ]
  },
  {
   "cell_type": "markdown",
   "metadata": {
    "id": "eGku_c2VVyd_"
   },
   "source": [
    "### Our First Chain\n",
    "\n",
    "Now we can set up our first chain!\n",
    "\n",
    "A chain is simply two components that feed directly into eachother in a sequential fashion!\n",
    "\n",
    "You'll notice that we're using the pipe operator `|` to connect our `chat_prompt` to our `llm`.\n",
    "\n",
    "This is a simplified method of creating chains and it leverages the LangChain Expression Language, or LCEL.\n",
    "\n",
    "You can read more about it [here](https://python.langchain.com/docs/expression_language/), but there a few features we should be aware of out of the box (taken directly from LangChain's documentation linked above):\n",
    "\n",
    "- **Async, Batch, and Streaming Support** Any chain constructed this way will automatically have full sync, async, batch, and streaming support. This makes it easy to prototype a chain in a Jupyter notebook using the sync interface, and then expose it as an async streaming interface.\n",
    "\n",
    "- **Fallbacks** The non-determinism of LLMs makes it important to be able to handle errors gracefully. With LCEL you can easily attach fallbacks to any chain.\n",
    "\n",
    "- **Parallelism** Since LLM applications involve (sometimes long) API calls, it often becomes important to run things in parallel. With LCEL syntax, any components that can be run in parallel automatically are.\n",
    "\n",
    "In the following code cell we have two components:\n",
    "\n",
    "- `chat_prompt`, which is a formattable `ChatPromptTemplate` that contains a system message and a human message.\n",
    "\n",
    "We'd like to be able to pass our own `content` (as found in our `human_template`) and then have the resulting message pair sent to our model and responded to!"
   ]
  },
  {
   "cell_type": "code",
   "execution_count": 10,
   "metadata": {
    "id": "RcJyqOiwVt04"
   },
   "outputs": [],
   "source": [
    "chain = chat_prompt | hf_llm"
   ]
  },
  {
   "cell_type": "code",
   "execution_count": 11,
   "metadata": {},
   "outputs": [
    {
     "data": {
      "text/plain": [
       "ChatPromptTemplate(input_variables=['content'], messages=[SystemMessagePromptTemplate(prompt=PromptTemplate(input_variables=[], template='You are a legendary and mythical Wizard. You speak in riddles and make obscure and pun-filled references to exotic cheeses.')), HumanMessagePromptTemplate(prompt=PromptTemplate(input_variables=['content'], template='{content}'))])\n",
       "| ChatOpenAI(client=<openai.resources.chat.completions.Completions object at 0x000002446AD76450>, async_client=<openai.resources.chat.completions.AsyncCompletions object at 0x000002446AD77710>, model_name='tgi', openai_api_key=SecretStr('**********'), openai_proxy='')"
      ]
     },
     "execution_count": 11,
     "metadata": {},
     "output_type": "execute_result"
    }
   ],
   "source": [
    "chain"
   ]
  },
  {
   "cell_type": "markdown",
   "metadata": {
    "id": "QV_kHCjlL_01"
   },
   "source": [
    "Notice the pattern here:\n",
    "\n",
    "We invoke our chain with the `dict` `{\"content\" : \"Hello world!\"}`.\n",
    "\n",
    "It enters our chain:\n",
    "\n",
    "`{\"content\" : \"Hello world!\"}` -> `invoke()` -> `chat_prompt`\n",
    "\n",
    "Our `chat_prompt` returns a `PromptValue`, which is the formatted prompt. We then \"pipe\" the output of our `chat_prompt` into our `llm`.\n",
    "\n",
    "`PromptValue` -> `|` -> `llm`\n",
    "\n",
    "Our `llm` then takes the list of messages and provides an output which is return as a `str`!\n",
    "\n",
    "\n",
    "\n",
    "\n",
    "\n"
   ]
  },
  {
   "cell_type": "code",
   "execution_count": 12,
   "metadata": {
    "colab": {
     "base_uri": "https://localhost:8080/"
    },
    "id": "0cqr2QuMtIjn",
    "outputId": "2beb26ac-026d-4df8-cdbe-02b762d34a7e"
   },
   "outputs": [
    {
     "name": "stdout",
     "output_type": "stream",
     "text": [
      "content='Ah, but my dear mortal, \\'tis not the world that greets thee, but I, the enigmatic Wizard! And what a curious greeting you\\'ve offered. It brings to mind the tale of the Cheddar Gnome\\'s first encounter with an alluring Blue Mold from the depths of the Cheese Caverns. \"Hello, world!\" he exclaimed, his heart aflutter.' response_metadata={'token_usage': {'completion_tokens': 80, 'prompt_tokens': 41, 'total_tokens': 121}, 'model_name': '/repository', 'system_fingerprint': '2.0.2-sha-6073ece', 'finish_reason': 'eos_token', 'logprobs': None} id='run-97ae4eab-59cb-4250-b27d-ae9f5d68ab61-0' usage_metadata={'input_tokens': 41, 'output_tokens': 80, 'total_tokens': 121}\n"
     ]
    }
   ],
   "source": [
    "print(chain.invoke({\"content\": \"Hello world!\"}))"
   ]
  },
  {
   "cell_type": "markdown",
   "metadata": {
    "id": "2znL48ECNteM"
   },
   "source": [
    "Let's try it out with a different prompt!"
   ]
  },
  {
   "cell_type": "code",
   "execution_count": 13,
   "metadata": {
    "colab": {
     "base_uri": "https://localhost:8080/"
    },
    "id": "mjiTNeYXUCAB",
    "outputId": "96fdc5e8-9236-410e-b44c-f3b772f6cb4c"
   },
   "outputs": [
    {
     "data": {
      "text/plain": [
       "AIMessage(content='Ah, my young apprentice, to master the art of Python, you must embark on a journey of endless learning and practice. Let me weave you a tale of wisdom:\\n\\n1. Read the Python documentation: Delve into the mysteries of the Python Language Reference and Python Library Reference. They hold the secrets to your success.\\n\\n2. Learn from others: Seek out the wisdom of experienced Python wizards. Read blogs, forums, and attend meetups to gain insight into their craft.\\n\\n3. Practice coding daily', response_metadata={'token_usage': {'completion_tokens': 100, 'prompt_tokens': 53, 'total_tokens': 153}, 'model_name': '/repository', 'system_fingerprint': '2.0.2-sha-6073ece', 'finish_reason': 'length', 'logprobs': None}, id='run-14a25ba0-4b21-4be5-a955-4a773052a110-0', usage_metadata={'input_tokens': 53, 'output_tokens': 100, 'total_tokens': 153})"
      ]
     },
     "execution_count": 13,
     "metadata": {},
     "output_type": "execute_result"
    }
   ],
   "source": [
    "chain.invoke({\"content\" : \"Could I please have some advice on how to become a better Python Programmer?\"})"
   ]
  },
  {
   "cell_type": "markdown",
   "metadata": {
    "id": "THcMz8YAWsjP"
   },
   "source": [
    "Notice how we specifically referenced our `content` format option!\n",
    "\n",
    "Now that we have the basics set up - let's see what we mean by \"Retrieval Augmented\" Generation."
   ]
  },
  {
   "cell_type": "markdown",
   "metadata": {
    "id": "P7o8aXbhRAPe"
   },
   "source": [
    "## Naive RAG - Manually adding context through the Prompt Template\n",
    "\n",
    "Let's look at how our model performs at a simple task - defining what LangChain is!\n",
    "\n",
    "We'll redo some of our previous work to change the `system_template` to be less...verbose."
   ]
  },
  {
   "cell_type": "code",
   "execution_count": 14,
   "metadata": {
    "colab": {
     "base_uri": "https://localhost:8080/"
    },
    "id": "Qu_Uox_pPKaf",
    "outputId": "d9b3dfdf-617e-4d50-bab4-e3da4fb3d2dc"
   },
   "outputs": [
    {
     "name": "stdout",
     "output_type": "stream",
     "text": [
      "content=\"LangChain is a long-form AI storytelling and creative writing platform powered by artificial intelligence. It uses a combination of pre-trained AI models, such as OpenAI's GPT-3, to generate human-like stories, articles, and creative content. Users can provide prompts, themes, or even write their own outlines, and LangChain's AI system creates unique and engaging content tailored to the user's preferences. The purpose of LangChain is to help writers, storytellers, and content creators generate original ideas\" response_metadata={'token_usage': {'completion_tokens': 100, 'prompt_tokens': 25, 'total_tokens': 125}, 'model_name': '/repository', 'system_fingerprint': '2.0.2-sha-6073ece', 'finish_reason': 'length', 'logprobs': None} id='run-07072d1c-e836-4dca-938a-243a36e8eda7-0' usage_metadata={'input_tokens': 25, 'output_tokens': 100, 'total_tokens': 125}\n"
     ]
    }
   ],
   "source": [
    "system_template = \"You are a helpful assistant.\"\n",
    "human_template = \"{content}\"\n",
    "\n",
    "chat_prompt = ChatPromptTemplate.from_messages([\n",
    "    (\"system\", system_template),\n",
    "    (\"human\", human_template)\n",
    "])\n",
    "\n",
    "chat_chain = chat_prompt | hf_llm\n",
    "\n",
    "print(chat_chain.invoke({\"content\" : \"Please define LangChain.\"}))"
   ]
  },
  {
   "cell_type": "markdown",
   "metadata": {
    "id": "18KXqGI4XbMb"
   },
   "source": [
    "Well, that's not very good - is it!\n",
    "\n",
    "The issue at play here is that our model was not trained on the idea of \"LangChain\", and so it's left with nothing but a guess - definitely not what we want the answer to be!\n",
    "\n",
    "Let's ask another simple LangChain question!"
   ]
  },
  {
   "cell_type": "code",
   "execution_count": 15,
   "metadata": {
    "colab": {
     "base_uri": "https://localhost:8080/"
    },
    "id": "pRG5LwYoXnsr",
    "outputId": "5968bc8e-895e-4e29-c515-c353c8e1c3f3"
   },
   "outputs": [
    {
     "name": "stdout",
     "output_type": "stream",
     "text": [
      "content='LangChain Expression Language (LECL) is a custom-designed expression language developed by LangChain. It is primarily used for programming, particularly in artificial intelligence and machine learning applications. LECL is optimized for efficiency, expressiveness, and readability, making it suitable for a wide range of programming tasks.\\n\\nThe language supports various features such as variables, data types, control structures (loops, conditionals), functions, and more. It also offers built-in functions and libraries, which allow developers to perform complex operations' response_metadata={'token_usage': {'completion_tokens': 100, 'prompt_tokens': 30, 'total_tokens': 130}, 'model_name': '/repository', 'system_fingerprint': '2.0.2-sha-6073ece', 'finish_reason': 'length', 'logprobs': None} id='run-d85061d4-5a77-413a-8564-44baebdbf45c-0' usage_metadata={'input_tokens': 30, 'output_tokens': 100, 'total_tokens': 130}\n"
     ]
    }
   ],
   "source": [
    "print(chat_chain.invoke({\"content\" : \"What is LangChain Expression Language (LECL)?\"}))"
   ]
  },
  {
   "cell_type": "markdown",
   "metadata": {
    "id": "63pr0fgYXxC3"
   },
   "source": [
    "While it provides a confident response, that response is entirely ficticious! Not a great look, OpenAI!\n",
    "\n",
    "However, let's see what happens when we rework our prompts - and we add the content from the docs to our prompt as context."
   ]
  },
  {
   "cell_type": "code",
   "execution_count": 16,
   "metadata": {
    "colab": {
     "base_uri": "https://localhost:8080/"
    },
    "id": "Fgr25HjgYHwh",
    "outputId": "81522300-a57a-43df-bc0a-d6170f0fff0c"
   },
   "outputs": [
    {
     "name": "stdout",
     "output_type": "stream",
     "text": [
      "content='LangChain Expression Language (LCEL) is a declarative way to easily compose chains together, providing benefits such as async, batch, and streaming support, fallbacks for handling errors, parallelism, and seamless integration with LangSmith tracing for improved observability and debuggability in complex chains. It helps in building more efficient and reliable chains for use with language models (LLMs).' response_metadata={'token_usage': {'completion_tokens': 78, 'prompt_tokens': 275, 'total_tokens': 353}, 'model_name': '/repository', 'system_fingerprint': '2.0.2-sha-6073ece', 'finish_reason': 'eos_token', 'logprobs': None} id='run-23b268cc-e8ef-44f5-ac14-c9ebc9ac4c5b-0' usage_metadata={'input_tokens': 275, 'output_tokens': 78, 'total_tokens': 353}\n"
     ]
    }
   ],
   "source": [
    "HUMAN_TEMPLATE = \"\"\"\n",
    "#CONTEXT:\n",
    "{context}\n",
    "\n",
    "QUERY:\n",
    "{query}\n",
    "\n",
    "Use the provide context to answer the provided user query. Only use the provided context to answer the query. If you do not know the answer, response with \"I don't know\"\n",
    "\"\"\"\n",
    "\n",
    "CONTEXT = \"\"\"\n",
    "LangChain Expression Language or LCEL is a declarative way to easily compose chains together. There are several benefits to writing chains in this manner (as opposed to writing normal code):\n",
    "\n",
    "Async, Batch, and Streaming Support Any chain constructed this way will automatically have full sync, async, batch, and streaming support. This makes it easy to prototype a chain in a Jupyter notebook using the sync interface, and then expose it as an async streaming interface.\n",
    "\n",
    "Fallbacks The non-determinism of LLMs makes it important to be able to handle errors gracefully. With LCEL you can easily attach fallbacks to any chain.\n",
    "\n",
    "Parallelism Since LLM applications involve (sometimes long) API calls, it often becomes important to run things in parallel. With LCEL syntax, any components that can be run in parallel automatically are.\n",
    "\n",
    "Seamless LangSmith Tracing Integration As your chains get more and more complex, it becomes increasingly important to understand what exactly is happening at every step. With LCEL, all steps are automatically logged to LangSmith for maximal observability and debuggability.\n",
    "\"\"\"\n",
    "\n",
    "chat_prompt = ChatPromptTemplate.from_messages([\n",
    "    (\"human\", HUMAN_TEMPLATE)\n",
    "])\n",
    "\n",
    "chat_chain = chat_prompt | hf_llm\n",
    "\n",
    "print(chat_chain.invoke({\"query\" : \"What is LangChain Expression Language?\", \"context\" : CONTEXT}))"
   ]
  },
  {
   "cell_type": "markdown",
   "metadata": {
    "id": "ppQdtCedY7C4"
   },
   "source": [
    "You'll notice that the response is much better this time. Not only does it answer the question well - but there's no trace of confabulation (hallucination) at all!\n",
    "\n",
    "> NOTE: While RAG is an effective strategy to *help* ground LLMs, it is not nearly 100% effective. You will still need to ensure your responses are factual through some other processes\n",
    "\n",
    "That, in essence, is the idea of RAG. We provide the model with context to answer our queries - and rely on it to translate the potentially lengthy and difficult to parse context into a natural language answer!\n",
    "\n",
    "However, manually providing context is not scalable - and doesn't really offer any benefit.\n",
    "\n",
    "Enter: Retrieval Pipelines."
   ]
  },
  {
   "cell_type": "markdown",
   "metadata": {
    "id": "DFmdARsVBJUq"
   },
   "source": [
    "## Task #4: Implement Naive RAG using LCEL\n",
    "\n",
    "Now we can make a naive RAG application that will help us bridge the gap between our Pythonic implementation and a fully LangChain powered solution!"
   ]
  },
  {
   "cell_type": "markdown",
   "metadata": {
    "id": "n4AozVoEZveK"
   },
   "source": [
    "## Putting the R in RAG: Retrieval 101\n",
    "\n",
    "In order to make our RAG system useful, we need a way to provide context that is most likely to answer our user's query to the LLM as additional context.\n",
    "\n",
    "Let's tackle an immediate problem first: The Context Window.\n",
    "\n",
    "All (most) LLMs have a limited context window which is typically measured in tokens. This window is an upper bound of how much stuff we can stuff in the model's input at a time.\n",
    "\n",
    "Let's say we want to work off of a relatively large piece of source data - like the Ultimate Hitchhiker's Guide to the Galaxy. All 898 pages of it!"
   ]
  },
  {
   "cell_type": "markdown",
   "metadata": {
    "id": "5oUuZpAicLdm"
   },
   "source": [
    "The full set comes in at a whopping *636,144* tokens.\n",
    "\n",
    "So, we have too much context. What can we do?\n",
    "\n",
    "Well, the first thing that might enter your mind is: \"Use a model with more context window\", and we could definitely do that! However, even `gpt-4-32k` wouldn't be able to fit that whole text in the context window at once.\n",
    "\n",
    "So, we can try splitting our document up into little pieces - that way, we can avoid providing too much context.\n",
    "\n",
    "We have another problem now.\n",
    "\n",
    "If we split our document up into little pieces, and we can't put all of them in the prompt. How do we decide which to include in the prompt?!\n",
    "\n",
    "> NOTE: Content splitting/chunking strategies are an active area of research and iterative developement. There is no \"one size fits all\" approach to chunking/splitting at this moment. Use your best judgement to determine chunking strategies!\n",
    "\n",
    "In order to conceptualize the following processes - let's create a toy context set!"
   ]
  },
  {
   "cell_type": "markdown",
   "metadata": {
    "id": "UPCiOPwUfbqn"
   },
   "source": [
    "### TextSplitting aka Chunking\n",
    "\n",
    "We'll use the `RecursiveCharacterTextSplitter` to create our toy example.\n",
    "\n",
    "It will split based on the following rules:\n",
    "\n",
    "- Each chunk has a maximum size of 100 characters\n",
    "- It will try and split first on the `\\n\\n` character, then on the `\\n`, then on the `<SPACE>` character, and finally it will split on individual tokens.\n",
    "\n",
    "Let's implement it and see the results!"
   ]
  },
  {
   "cell_type": "code",
   "execution_count": 17,
   "metadata": {
    "id": "nLW9AfDKfVHn"
   },
   "outputs": [],
   "source": [
    "from langchain.text_splitter import RecursiveCharacterTextSplitter\n",
    "\n",
    "text_splitter = RecursiveCharacterTextSplitter(\n",
    "    chunk_size = 400,\n",
    "    chunk_overlap = 0,\n",
    "    length_function = len,\n",
    ")"
   ]
  },
  {
   "cell_type": "code",
   "execution_count": 18,
   "metadata": {
    "id": "nPYPBe2ngT9N"
   },
   "outputs": [],
   "source": [
    "chunks = text_splitter.split_text(CONTEXT)"
   ]
  },
  {
   "cell_type": "code",
   "execution_count": 19,
   "metadata": {
    "colab": {
     "base_uri": "https://localhost:8080/"
    },
    "id": "n_RGVlTihaQX",
    "outputId": "271a622e-5f3d-49c7-ad9e-9b2efc9b0f0d"
   },
   "outputs": [
    {
     "data": {
      "text/plain": [
       "4"
      ]
     },
     "execution_count": 19,
     "metadata": {},
     "output_type": "execute_result"
    }
   ],
   "source": [
    "len(chunks)"
   ]
  },
  {
   "cell_type": "code",
   "execution_count": 20,
   "metadata": {
    "colab": {
     "base_uri": "https://localhost:8080/"
    },
    "id": "rTYny2xchS_Z",
    "outputId": "4b6e833c-3d36-467c-bfc7-4a32edc75dcd"
   },
   "outputs": [
    {
     "name": "stdout",
     "output_type": "stream",
     "text": [
      "LangChain Expression Language or LCEL is a declarative way to easily compose chains together. There are several benefits to writing chains in this manner (as opposed to writing normal code):\n",
      "----\n",
      "Async, Batch, and Streaming Support Any chain constructed this way will automatically have full sync, async, batch, and streaming support. This makes it easy to prototype a chain in a Jupyter notebook using the sync interface, and then expose it as an async streaming interface.\n",
      "----\n",
      "Fallbacks The non-determinism of LLMs makes it important to be able to handle errors gracefully. With LCEL you can easily attach fallbacks to any chain.\n",
      "\n",
      "Parallelism Since LLM applications involve (sometimes long) API calls, it often becomes important to run things in parallel. With LCEL syntax, any components that can be run in parallel automatically are.\n",
      "----\n",
      "Seamless LangSmith Tracing Integration As your chains get more and more complex, it becomes increasingly important to understand what exactly is happening at every step. With LCEL, all steps are automatically logged to LangSmith for maximal observability and debuggability.\n",
      "----\n"
     ]
    }
   ],
   "source": [
    "for chunk in chunks:\n",
    "  print(chunk)\n",
    "  print(\"----\")"
   ]
  },
  {
   "cell_type": "markdown",
   "metadata": {
    "id": "98hOgu5Yhefv"
   },
   "source": [
    "As is shown in our result, we've split each section into 100 token chunks - cleanly separated by `\\n\\n` characters!"
   ]
  },
  {
   "cell_type": "markdown",
   "metadata": {
    "id": "3PTiJ2utMpqq"
   },
   "source": [
    "####🏗️ Activity #1:\n",
    "\n",
    "While there's nothing specifically wrong with the chunking method used above - it is a naive approach that is not sensitive to specific data formats.\n",
    "\n",
    "Brainstorm some ideas that would split large single documents into smaller documents.\n",
    "\n",
    "1. `YOUR IDEA HERE`\n",
    "2. `YOUR IDEA HERE`\n",
    "3. `YOUR IDEA HERE`"
   ]
  },
  {
   "cell_type": "markdown",
   "metadata": {
    "id": "rj18Rjafhp7d"
   },
   "source": [
    "## Embeddings and Dense Vector Search\n",
    "\n",
    "Now that we have our individual chunks, we need a system to correctly select the relevant pieces of information to answer our query.\n",
    "\n",
    "This sounds like a perfect job for embeddings!\n",
    "\n",
    "We'll be using Snowflakes's `Snowflake/snowflake-arctic-embed-m ` model as our embedding model today!\n",
    "\n",
    "Let's load it up through LangChain."
   ]
  },
  {
   "cell_type": "code",
   "execution_count": 30,
   "metadata": {
    "id": "7JBR1CSsEA0u"
   },
   "outputs": [],
   "source": [
    "HF_EMBED_URL = \"https://nu1wajtcvdq4rid8.us-east-1.aws.endpoints.huggingface.cloud/\""
   ]
  },
  {
   "cell_type": "code",
   "execution_count": 32,
   "metadata": {
    "id": "quNjOLWspOVN"
   },
   "outputs": [],
   "source": [
    "from langchain_huggingface.embeddings import HuggingFaceEndpointEmbeddings\n",
    "\n",
    "embedding_model = HuggingFaceEndpointEmbeddings(\n",
    "    model=HF_EMBED_URL,\n",
    "    task=\"feature-extraction\",\n",
    "    huggingfacehub_api_token=os.environ[\"OPENAI_API_KEY\"],\n",
    ")"
   ]
  },
  {
   "cell_type": "markdown",
   "metadata": {
    "id": "ByK-zb0FsnqR"
   },
   "source": [
    "### Finding the Embeddings for Our Chunks\n",
    "\n",
    "First, let's find all our embeddings for each chunk and store them in a convenient format for later."
   ]
  },
  {
   "cell_type": "code",
   "execution_count": 33,
   "metadata": {
    "id": "ZHl-u6Fxske9"
   },
   "outputs": [],
   "source": [
    "embeddings_dict = {}\n",
    "\n",
    "for chunk in chunks:\n",
    "  embeddings_dict[chunk] = embedding_model.embed_query(chunk)"
   ]
  },
  {
   "cell_type": "code",
   "execution_count": 34,
   "metadata": {
    "colab": {
     "base_uri": "https://localhost:8080/"
    },
    "id": "RhJ9wY2etK7y",
    "outputId": "c3557670-7dbc-4a50-ba0e-73c995c9e6e4"
   },
   "outputs": [
    {
     "name": "stdout",
     "output_type": "stream",
     "text": [
      "Chunk - LangChain Expression Language or LCEL is a declarative way to easily compose chains together. There are several benefits to writing chains in this manner (as opposed to writing normal code):\n",
      "---\n",
      "Embedding - Vector of Size: 768\n",
      "\n",
      "\n",
      "\n",
      "Chunk - Async, Batch, and Streaming Support Any chain constructed this way will automatically have full sync, async, batch, and streaming support. This makes it easy to prototype a chain in a Jupyter notebook using the sync interface, and then expose it as an async streaming interface.\n",
      "---\n",
      "Embedding - Vector of Size: 768\n",
      "\n",
      "\n",
      "\n",
      "Chunk - Fallbacks The non-determinism of LLMs makes it important to be able to handle errors gracefully. With LCEL you can easily attach fallbacks to any chain.\n",
      "\n",
      "Parallelism Since LLM applications involve (sometimes long) API calls, it often becomes important to run things in parallel. With LCEL syntax, any components that can be run in parallel automatically are.\n",
      "---\n",
      "Embedding - Vector of Size: 768\n",
      "\n",
      "\n",
      "\n",
      "Chunk - Seamless LangSmith Tracing Integration As your chains get more and more complex, it becomes increasingly important to understand what exactly is happening at every step. With LCEL, all steps are automatically logged to LangSmith for maximal observability and debuggability.\n",
      "---\n",
      "Embedding - Vector of Size: 768\n",
      "\n",
      "\n",
      "\n"
     ]
    }
   ],
   "source": [
    "for k,v in embeddings_dict.items():\n",
    "  print(f\"Chunk - {k}\")\n",
    "  print(\"---\")\n",
    "  print(f\"Embedding - Vector of Size: {len(v)}\")\n",
    "  print(\"\\n\\n\")"
   ]
  },
  {
   "cell_type": "markdown",
   "metadata": {
    "id": "SOxYybdNtkWv"
   },
   "source": [
    "Okay, great. Let's create a query - and then embed it!"
   ]
  },
  {
   "cell_type": "code",
   "execution_count": 35,
   "metadata": {
    "colab": {
     "base_uri": "https://localhost:8080/"
    },
    "id": "FQD5Zwl1tLrZ",
    "outputId": "01b84ef5-1970-42a7-c154-ed0735bb3b59"
   },
   "outputs": [
    {
     "name": "stdout",
     "output_type": "stream",
     "text": [
      "Vector of Size: 768\n"
     ]
    }
   ],
   "source": [
    "query = \"Can LCEL help take code from the notebook to production?\"\n",
    "\n",
    "query_vector = embedding_model.embed_query(query)\n",
    "print(f\"Vector of Size: {len(query_vector)}\")"
   ]
  },
  {
   "cell_type": "markdown",
   "metadata": {
    "id": "kkJhyvgEt5Vt"
   },
   "source": [
    "Now, let's compare it against each existing chunk's embedding by using cosine similarity."
   ]
  },
  {
   "cell_type": "code",
   "execution_count": 36,
   "metadata": {
    "id": "vfyDZlpmfWYa"
   },
   "outputs": [],
   "source": [
    "import numpy as np\n",
    "from numpy.linalg import norm\n",
    "\n",
    "def cosine_similarity(vec_1, vec_2):\n",
    "  return np.dot(vec_1, vec_2) / (norm(vec_1) * norm(vec_2))"
   ]
  },
  {
   "cell_type": "code",
   "execution_count": 37,
   "metadata": {
    "colab": {
     "base_uri": "https://localhost:8080/"
    },
    "id": "MwnJ0uYQt-G_",
    "outputId": "e5edcaae-e9f4-43a0-aa00-cc6e61c1d1c5"
   },
   "outputs": [
    {
     "name": "stdout",
     "output_type": "stream",
     "text": [
      "LangChain Expression Language or LCEL is a declarative way to easily compose chains together. There are several benefits to writing chains in this manner (as opposed to writing normal code):\n",
      "0.6180182973460269\n"
     ]
    }
   ],
   "source": [
    "max_similarity = -float('inf')\n",
    "closest_chunk = \"\"\n",
    "\n",
    "for chunk, chunk_vector in embeddings_dict.items():\n",
    "  cosine_similarity_score = cosine_similarity(chunk_vector, query_vector)\n",
    "\n",
    "  if cosine_similarity_score > max_similarity:\n",
    "    closest_chunk = chunk\n",
    "    max_similarity = cosine_similarity_score\n",
    "\n",
    "print(closest_chunk)\n",
    "print(max_similarity)"
   ]
  },
  {
   "cell_type": "markdown",
   "metadata": {
    "id": "JDC7HS7iumN-"
   },
   "source": [
    "And we get the expected result, which is the passage that specifically mentions prototyping in a Jupyter Notebook!"
   ]
  },
  {
   "cell_type": "markdown",
   "metadata": {
    "id": "UPJexL1kuw45"
   },
   "source": [
    "### Creating a Retriever\n",
    "\n",
    "Now that we have an idea of how we're getting our most relevant information - let's see how we could create a pipeline that would automatically extract the closest chunk to our query and use it as context for our prompt!\n",
    "\n",
    "First, we'll wrap the above in a helper function!"
   ]
  },
  {
   "cell_type": "code",
   "execution_count": 38,
   "metadata": {
    "id": "tnLpo26pu8-1"
   },
   "outputs": [],
   "source": [
    "def retrieve_context(query, embeddings_dict, embedding_model):\n",
    "  query_vector = embedding_model.embed_query(query)\n",
    "  max_similarity = -float('inf')\n",
    "  closest_chunk = \"\"\n",
    "\n",
    "  for chunk, chunk_vector in embeddings_dict.items():\n",
    "    cosine_similarity_score = cosine_similarity(chunk_vector, query_vector)\n",
    "\n",
    "    if cosine_similarity_score > max_similarity:\n",
    "      closest_chunk = chunk\n",
    "      max_similarity = cosine_similarity_score\n",
    "\n",
    "  return closest_chunk"
   ]
  },
  {
   "cell_type": "markdown",
   "metadata": {
    "id": "ytrINkVrvL1Q"
   },
   "source": [
    "Now, let's add it to our pipeline!"
   ]
  },
  {
   "cell_type": "code",
   "execution_count": 39,
   "metadata": {
    "id": "Q26pl1osvNmL"
   },
   "outputs": [],
   "source": [
    "def simple_rag(query, embeddings_dict, embedding_model, chat_chain):\n",
    "  context = retrieve_context(query, embeddings_dict, embedding_model)\n",
    "\n",
    "  response = chat_chain.invoke({\"query\" : query, \"context\" : context})\n",
    "\n",
    "  return_package = {\n",
    "      \"query\" : query,\n",
    "      \"response\" : response,\n",
    "      \"retriever_context\" : context\n",
    "  }\n",
    "\n",
    "  return return_package"
   ]
  },
  {
   "cell_type": "code",
   "execution_count": 40,
   "metadata": {
    "colab": {
     "base_uri": "https://localhost:8080/"
    },
    "id": "UHjbWxTAvtLS",
    "outputId": "e92e1335-2276-4557-9520-1af64bd6114f"
   },
   "outputs": [
    {
     "data": {
      "text/plain": [
       "{'query': 'Can LCEL help take code from the notebook to production?',\n",
       " 'response': AIMessage(content='Yes, LCEL can help in taking code from the notebook to production. The declarative nature of LCEL makes it easier to compose chains together, which can improve code organization, readability, and maintainability. By using LCEL, you can create a clear and concise chain structure that can be easily understood and managed in both development and production environments.', response_metadata={'token_usage': {'completion_tokens': 71, 'prompt_tokens': 99, 'total_tokens': 170}, 'model_name': '/repository', 'system_fingerprint': '2.0.2-sha-6073ece', 'finish_reason': 'eos_token', 'logprobs': None}, id='run-425b8f5f-10b3-4f34-96eb-dead6a67396d-0', usage_metadata={'input_tokens': 99, 'output_tokens': 71, 'total_tokens': 170}),\n",
       " 'retriever_context': 'LangChain Expression Language or LCEL is a declarative way to easily compose chains together. There are several benefits to writing chains in this manner (as opposed to writing normal code):'}"
      ]
     },
     "execution_count": 40,
     "metadata": {},
     "output_type": "execute_result"
    }
   ],
   "source": [
    "simple_rag(\"Can LCEL help take code from the notebook to production?\", embeddings_dict, embedding_model, chat_chain)"
   ]
  },
  {
   "cell_type": "markdown",
   "metadata": {
    "id": "Cx2AOb-QHwJm"
   },
   "source": [
    "## Task #5: Create a Simple RAG Application Using Qdrant, Hugging Face, and LCEL\n",
    "\n",
    "Now that we have a grasp on how LCEL works, and how we can use LangChain and Hugging Face to interact with our data - let's step it up a notch and incorporate Qdrant!"
   ]
  },
  {
   "cell_type": "markdown",
   "metadata": {
    "id": "XYJB3IxEwpnh"
   },
   "source": [
    "## LangChain Powered RAG\n",
    "\n",
    "First and foremost, LangChain provides a convenient way to store our chunks and their embeddings.\n",
    "\n",
    "It's called a `VectorStore`!\n",
    "\n",
    "We'll be using QDrant as our `VectorStore` today. You can read more about it [here](https://qdrant.tech/documentation/).\n",
    "\n",
    "Think of a `VectorStore` as a smart way to house your chunks and their associated embedding vectors. The implementation of the `VectorStore` also allows for smarter and more efficient search of our embedding vectors - as the method we used above would not scale well as we got into the millions of chunks.\n",
    "\n",
    "Otherwise, the process remains relatively similar under the hood!\n",
    "\n",
    "Let's use [Musk's Complaint Against OpenAI](https://www.courthousenews.com/wp-content/uploads/2024/02/musk-v-altman-openai-complaint-sf.pdf) as our data today!"
   ]
  },
  {
   "cell_type": "markdown",
   "metadata": {
    "id": "pBErqPRgxgZR"
   },
   "source": [
    "### Data Collection\n",
    "\n",
    "We'll be leveraging the `PyMUPDFLoader` to load our PDF directly from the web!"
   ]
  },
  {
   "cell_type": "code",
   "execution_count": 41,
   "metadata": {
    "id": "-AHA9L3Jxo3r"
   },
   "outputs": [],
   "source": [
    "from langchain.document_loaders import PyMuPDFLoader\n",
    "\n",
    "docs = PyMuPDFLoader(\"https://www.courthousenews.com/wp-content/uploads/2024/02/musk-v-altman-openai-complaint-sf.pdf\").load()"
   ]
  },
  {
   "cell_type": "markdown",
   "metadata": {
    "id": "uH7ZPVJLx6Cn"
   },
   "source": [
    "### Chunking Our Documents"
   ]
  },
  {
   "cell_type": "markdown",
   "metadata": {
    "id": "NsSCRQUSyBKT"
   },
   "source": [
    "Let's do the same process as we did before with our `RecursiveCharacterTextSplitter` - but this time we'll use ~200 tokens as our max chunk size!"
   ]
  },
  {
   "cell_type": "code",
   "execution_count": 42,
   "metadata": {
    "id": "SzolG1FLx2f_"
   },
   "outputs": [],
   "source": [
    "text_splitter = RecursiveCharacterTextSplitter(\n",
    "    chunk_size = 500,\n",
    "    chunk_overlap = 0,\n",
    "    length_function = len,\n",
    ")\n",
    "\n",
    "split_chunks = text_splitter.split_documents(docs)"
   ]
  },
  {
   "cell_type": "code",
   "execution_count": 43,
   "metadata": {
    "colab": {
     "base_uri": "https://localhost:8080/"
    },
    "id": "fpV4f1eXyXVJ",
    "outputId": "0af3fcff-e7e5-489e-e911-55717f6907c7"
   },
   "outputs": [
    {
     "data": {
      "text/plain": [
       "231"
      ]
     },
     "execution_count": 43,
     "metadata": {},
     "output_type": "execute_result"
    }
   ],
   "source": [
    "len(split_chunks)"
   ]
  },
  {
   "cell_type": "code",
   "execution_count": 49,
   "metadata": {},
   "outputs": [
    {
     "data": {
      "text/plain": [
       "Document(metadata={'source': 'https://www.courthousenews.com/wp-content/uploads/2024/02/musk-v-altman-openai-complaint-sf.pdf', 'file_path': 'https://www.courthousenews.com/wp-content/uploads/2024/02/musk-v-altman-openai-complaint-sf.pdf', 'page': 2, 'total_pages': 46, 'format': 'PDF 1.7', 'title': '', 'author': '', 'subject': '', 'keywords': '', 'creator': '', 'producer': '', 'creationDate': '', 'modDate': '', 'trapped': ''}, page_content='OAI Corporation, LLC is a limited liability company formed in Delaware. OAI \\nCorporation, LLC maintains its principal place of business in California.  \\n11. \\nOpenAI Holdings, LLC is a limited liability company formed in Delaware on March \\n17, 2023. OpenAI Holdings, LLC is registered as an out-of-state limited liability company with the \\nCalifornia Secretary of State and has it principal place of business at 1960 Bryant Street, San \\nFrancisco, CA 94110.  \\n12.')"
      ]
     },
     "execution_count": 49,
     "metadata": {},
     "output_type": "execute_result"
    }
   ],
   "source": [
    "split_chunks[10]"
   ]
  },
  {
   "cell_type": "markdown",
   "metadata": {
    "id": "YTJ60Ck6ybe_"
   },
   "source": [
    "Alright, now we have 516 ~200 token long documents.\n",
    "\n",
    "Let's verify the process worked as intended by checking our max document length."
   ]
  },
  {
   "cell_type": "code",
   "execution_count": 44,
   "metadata": {
    "colab": {
     "base_uri": "https://localhost:8080/"
    },
    "id": "950mB338yZR8",
    "outputId": "0c7a26c5-1b04-40f6-ed99-b0d69f973530"
   },
   "outputs": [
    {
     "name": "stdout",
     "output_type": "stream",
     "text": [
      "499\n"
     ]
    }
   ],
   "source": [
    "max_chunk_length = 0\n",
    "\n",
    "for chunk in split_chunks:\n",
    "  max_chunk_length = max(max_chunk_length, len(chunk.page_content))\n",
    "\n",
    "print(max_chunk_length)"
   ]
  },
  {
   "cell_type": "markdown",
   "metadata": {
    "id": "TDt3RufQy1cP"
   },
   "source": [
    "Perfect! Now we can carry on to creating and storing our embeddings."
   ]
  },
  {
   "cell_type": "markdown",
   "metadata": {
    "id": "kocCe4zLy5qT"
   },
   "source": [
    "### Embeddings and Vector Storage\n",
    "\n",
    "We'll use the `Snowflake/snowflake-arctic-embed-m` embedding model again - and `Qdrant` to store all our embedding vectors for easy retrieval later!"
   ]
  },
  {
   "cell_type": "code",
   "execution_count": 50,
   "metadata": {
    "id": "7M0X1eVlWPFf"
   },
   "outputs": [],
   "source": [
    "from langchain_community.vectorstores import Qdrant\n",
    "\n",
    "for i in range(0, len(split_chunks), 32):\n",
    "  if i == 0:\n",
    "    vectorstore = Qdrant.from_documents(split_chunks[i:i+32], embedding_model, location=\":memory:\", collection_name=\"Elon's Complaint\")\n",
    "    continue\n",
    "  vectorstore.add_documents(split_chunks[i:i+32])"
   ]
  },
  {
   "cell_type": "markdown",
   "metadata": {
    "id": "d-NDvjfzXhVp"
   },
   "source": [
    "Now let's set up our retriever, just as we saw before, but this time using LangChain's simple `as_retriever()` method!"
   ]
  },
  {
   "cell_type": "code",
   "execution_count": 51,
   "metadata": {
    "id": "Edjx19YBXavZ"
   },
   "outputs": [],
   "source": [
    "qdrant_retriever = vectorstore.as_retriever()"
   ]
  },
  {
   "cell_type": "markdown",
   "metadata": {
    "id": "B1OM0DiYcOj-"
   },
   "source": [
    "#### Back to the Flow"
   ]
  },
  {
   "cell_type": "markdown",
   "metadata": {
    "id": "J7apXaEBzQai"
   },
   "source": [
    "We're ready to move to the next step!"
   ]
  },
  {
   "cell_type": "markdown",
   "metadata": {
    "id": "xMhcU37dzV5k"
   },
   "source": [
    "### Setting up our RAG\n",
    "\n",
    "We'll use the LCEL we touched on earlier to create a RAG chain.\n",
    "\n",
    "Let's think through each part:\n",
    "\n",
    "1. First we need to retrieve context\n",
    "2. We need to pipe that context to our model\n",
    "3. We need to parse that output\n",
    "\n",
    "Let's start by setting up our prompt again, just so it's fresh in our minds!"
   ]
  },
  {
   "cell_type": "markdown",
   "metadata": {
    "id": "oatgDa7cOXWV"
   },
   "source": [
    "####🏗️ Activity #2:\n",
    "\n",
    "Complete the prompt so that your RAG application answers queries based on the context provided, but *does not* answer queries if the context is unrelated to the query."
   ]
  },
  {
   "cell_type": "code",
   "execution_count": 52,
   "metadata": {
    "id": "TE5tick_YPJj"
   },
   "outputs": [],
   "source": [
    "RAG_PROMPT = \"\"\"\n",
    "CONTEXT:\n",
    "{context}\n",
    "\n",
    "QUERY:\n",
    "{question}\n",
    "\n",
    "<< COMPLETE YOUR PROMPT HERE >>\n",
    "\"\"\"\n",
    "\n",
    "rag_prompt = ChatPromptTemplate.from_template(RAG_PROMPT)"
   ]
  },
  {
   "cell_type": "markdown",
   "metadata": {
    "id": "tZKadufhc2RL"
   },
   "source": [
    "#### Our RAG Chain\n",
    "\n",
    "Notice how we have a bit of a more complex chain this time - that's because we want to return our sources with the response.\n",
    "\n",
    "Let's break down the chain step-by-step:\n",
    "\n",
    "1. We invoke the chain with the `question` item. Notice how we only need to provide `question` since both the retreiver and the `\"question\"` object depend on it.\n",
    "  - We also chain our `\"question\"` into our `retriever`! This is what ultimately collects the context through Qdrant.\n",
    "2. We assign our collected context to a `RunnablePassthrough()` from the previous object. This is going to let us simply pass it through to the next step, but still allow us to run that section of the chain.\n",
    "3. We finally collect our response by chaining our prompt, which expects both a `\"question\"` and `\"context\"`, into our `llm`. We also, collect the `\"context\"` again so we can output it in the final response object.\n",
    "\n",
    "The key thing to keep in mind here is that we need to pass our context through *after* we've retrieved it - to populate the object in a way that doesn't require us to call it or try and use it for something else."
   ]
  },
  {
   "cell_type": "code",
   "execution_count": 53,
   "metadata": {
    "id": "VnGthXpzzo-R"
   },
   "outputs": [],
   "source": [
    "from operator import itemgetter\n",
    "from langchain.schema.output_parser import StrOutputParser\n",
    "from langchain.schema.runnable import RunnablePassthrough\n",
    "\n",
    "retrieval_augmented_qa_chain = (\n",
    "    # INVOKE CHAIN WITH: {\"question\" : \"<<SOME USER QUESTION>>\"}\n",
    "    # \"question\" : populated by getting the value of the \"question\" key\n",
    "    # \"context\"  : populated by getting the value of the \"question\" key and chaining it into the base_retriever\n",
    "    {\"context\": itemgetter(\"question\") | qdrant_retriever, \"question\": itemgetter(\"question\")}\n",
    "    # \"context\"  : is assigned to a RunnablePassthrough object (will not be called or considered in the next step)\n",
    "    #              by getting the value of the \"context\" key from the previous step\n",
    "    | RunnablePassthrough.assign(context=itemgetter(\"context\"))\n",
    "    # \"response\" : the \"context\" and \"question\" values are used to format our prompt object and then piped\n",
    "    #              into the LLM and stored in a key called \"response\"\n",
    "    # \"context\"  : populated by getting the value of the \"context\" key from the previous step\n",
    "    | {\"response\": rag_prompt | hf_llm, \"context\": itemgetter(\"context\")}\n",
    ")"
   ]
  },
  {
   "cell_type": "markdown",
   "metadata": {
    "id": "h0KAPrtFMtRd"
   },
   "source": [
    "Let's get a visual understanding of our chain!"
   ]
  },
  {
   "cell_type": "code",
   "execution_count": 54,
   "metadata": {
    "colab": {
     "base_uri": "https://localhost:8080/"
    },
    "id": "ceq3JfVLM74-",
    "outputId": "394b0b6e-81a2-4d8d-e42d-138252d004a5"
   },
   "outputs": [],
   "source": [
    "!pip install -qU grandalf"
   ]
  },
  {
   "cell_type": "code",
   "execution_count": 55,
   "metadata": {
    "colab": {
     "base_uri": "https://localhost:8080/"
    },
    "id": "y8ocIXNGMsue",
    "outputId": "061799da-a660-475d-ad18-10eff4a3e91e"
   },
   "outputs": [
    {
     "name": "stdout",
     "output_type": "stream",
     "text": [
      "                       +---------------------------------+                         \n",
      "                       | Parallel<context,question>Input |                         \n",
      "                       +---------------------------------+                         \n",
      "                           *****                   ****                            \n",
      "                        ***                            ****                        \n",
      "                     ***                                   ****                    \n",
      "+--------------------------------+                             **                  \n",
      "| Lambda(itemgetter('question')) |                              *                  \n",
      "+--------------------------------+                              *                  \n",
      "                 *                                              *                  \n",
      "                 *                                              *                  \n",
      "                 *                                              *                  \n",
      "     +----------------------+                   +--------------------------------+ \n",
      "     | VectorStoreRetriever |                   | Lambda(itemgetter('question')) | \n",
      "     +----------------------+                   +--------------------------------+ \n",
      "                           *****                   *****                           \n",
      "                                ***             ***                                \n",
      "                                   ***       ***                                   \n",
      "                       +----------------------------------+                        \n",
      "                       | Parallel<context,question>Output |                        \n",
      "                       +----------------------------------+                        \n",
      "                                         *                                         \n",
      "                                         *                                         \n",
      "                                         *                                         \n",
      "                            +------------------------+                             \n",
      "                            | Parallel<context>Input |                             \n",
      "                            +------------------------+                             \n",
      "                              ****               ****                              \n",
      "                           ***                       ***                           \n",
      "                         **                             **                         \n",
      "     +-------------------------------+              +-------------+                \n",
      "     | Lambda(itemgetter('context')) |              | Passthrough |                \n",
      "     +-------------------------------+              +-------------+                \n",
      "                              ****               ****                              \n",
      "                                  ***         ***                                  \n",
      "                                     **     **                                     \n",
      "                           +-------------------------+                             \n",
      "                           | Parallel<context>Output |                             \n",
      "                           +-------------------------+                             \n",
      "                                         *                                         \n",
      "                                         *                                         \n",
      "                                         *                                         \n",
      "                       +---------------------------------+                         \n",
      "                       | Parallel<response,context>Input |                         \n",
      "                       +---------------------------------+                         \n",
      "                             ***                  ****                             \n",
      "                         ****                         ***                          \n",
      "                       **                                ****                      \n",
      "         +--------------------+                              **                    \n",
      "         | ChatPromptTemplate |                               *                    \n",
      "         +--------------------+                               *                    \n",
      "                    *                                         *                    \n",
      "                    *                                         *                    \n",
      "                    *                                         *                    \n",
      "             +------------+                  +-------------------------------+     \n",
      "             | ChatOpenAI |                  | Lambda(itemgetter('context')) |     \n",
      "             +------------+**                +-------------------------------+     \n",
      "                             ***                  ***                              \n",
      "                                ****          ****                                 \n",
      "                                    **      **                                     \n",
      "                       +----------------------------------+                        \n",
      "                       | Parallel<response,context>Output |                        \n",
      "                       +----------------------------------+                        \n"
     ]
    }
   ],
   "source": [
    "print(retrieval_augmented_qa_chain.get_graph().draw_ascii())"
   ]
  },
  {
   "cell_type": "markdown",
   "metadata": {
    "id": "1bQVzN_eX1M2"
   },
   "source": [
    "Let's try another visual representation:\n",
    "\n",
    "![image](https://i.imgur.com/Ad31AhL.png)"
   ]
  },
  {
   "cell_type": "markdown",
   "metadata": {
    "id": "_0C5CFRHOxtB"
   },
   "source": [
    "Let's test our chain out!"
   ]
  },
  {
   "cell_type": "code",
   "execution_count": 56,
   "metadata": {
    "id": "JSDyVefDaue4"
   },
   "outputs": [],
   "source": [
    "response = retrieval_augmented_qa_chain.invoke({\"question\" : \"What is this complaint about?\"})"
   ]
  },
  {
   "cell_type": "code",
   "execution_count": 57,
   "metadata": {
    "colab": {
     "base_uri": "https://localhost:8080/",
     "height": 89
    },
    "id": "yfEAoG3HLC3J",
    "outputId": "3ee74ea2-ea5a-4bd1-e9bb-8be75d141224"
   },
   "outputs": [
    {
     "data": {
      "text/plain": [
       "\"This complaint is about a dispute between Elon Musk and OpenAI, with the latter being accused of breaching their contractual obligations. The complaint seeks specific performance of the defendant's contractual obligations, as stated in the document metadata. The legal representation for the plaintiff, Elon Musk, is mentioned, and there are exhibits (Exhibit 1, Exhibit 2, and Exhibit 3) attached to the document. The exact details of the contractual dispute and the nature of the specific performance sought are not mentioned in\""
      ]
     },
     "execution_count": 57,
     "metadata": {},
     "output_type": "execute_result"
    }
   ],
   "source": [
    "response[\"response\"].content"
   ]
  },
  {
   "cell_type": "code",
   "execution_count": 58,
   "metadata": {
    "colab": {
     "base_uri": "https://localhost:8080/"
    },
    "id": "FSZFdCM5LFoq",
    "outputId": "4071505e-c761-4e30-a7ea-4617302313f2"
   },
   "outputs": [
    {
     "name": "stdout",
     "output_type": "stream",
     "text": [
      "Context:\n",
      "page_content='Plaintiff also seeks and is entitled to specific performance of Defendant’s contractual \n",
      "obligations.' metadata={'source': 'https://www.courthousenews.com/wp-content/uploads/2024/02/musk-v-altman-openai-complaint-sf.pdf', 'file_path': 'https://www.courthousenews.com/wp-content/uploads/2024/02/musk-v-altman-openai-complaint-sf.pdf', 'page': 28, 'total_pages': 46, 'format': 'PDF 1.7', 'title': '', 'author': '', 'subject': '', 'keywords': '', 'creator': '', 'producer': '', 'creationDate': '', 'modDate': '', 'trapped': '', '_id': '31fb680e11894f8ea0ea6b6cee0c41b6', '_collection_name': \"Elon's Complaint\"}\n",
      "----\n",
      "Context:\n",
      "page_content='Exhibit 1' metadata={'source': 'https://www.courthousenews.com/wp-content/uploads/2024/02/musk-v-altman-openai-complaint-sf.pdf', 'file_path': 'https://www.courthousenews.com/wp-content/uploads/2024/02/musk-v-altman-openai-complaint-sf.pdf', 'page': 35, 'total_pages': 46, 'format': 'PDF 1.7', 'title': '', 'author': '', 'subject': '', 'keywords': '', 'creator': '', 'producer': '', 'creationDate': '', 'modDate': '', 'trapped': '', '_id': '96e3bcf1297249319cbaeaa027dbdba5', '_collection_name': \"Elon's Complaint\"}\n",
      "----\n",
      "Context:\n",
      "page_content='Attorneys for Plaintiff Elon Musk' metadata={'source': 'https://www.courthousenews.com/wp-content/uploads/2024/02/musk-v-altman-openai-complaint-sf.pdf', 'file_path': 'https://www.courthousenews.com/wp-content/uploads/2024/02/musk-v-altman-openai-complaint-sf.pdf', 'page': 34, 'total_pages': 46, 'format': 'PDF 1.7', 'title': '', 'author': '', 'subject': '', 'keywords': '', 'creator': '', 'producer': '', 'creationDate': '', 'modDate': '', 'trapped': '', '_id': 'cc02808ce3ed445ead2d1a4546b40ae0', '_collection_name': \"Elon's Complaint\"}\n",
      "----\n",
      "Context:\n",
      "page_content='Exhibit 3' metadata={'source': 'https://www.courthousenews.com/wp-content/uploads/2024/02/musk-v-altman-openai-complaint-sf.pdf', 'file_path': 'https://www.courthousenews.com/wp-content/uploads/2024/02/musk-v-altman-openai-complaint-sf.pdf', 'page': 40, 'total_pages': 46, 'format': 'PDF 1.7', 'title': '', 'author': '', 'subject': '', 'keywords': '', 'creator': '', 'producer': '', 'creationDate': '', 'modDate': '', 'trapped': '', '_id': 'f8ebf902e87e4f6aa7570d2d9d28931a', '_collection_name': \"Elon's Complaint\"}\n",
      "----\n"
     ]
    }
   ],
   "source": [
    "for context in response[\"context\"]:\n",
    "  print(\"Context:\")\n",
    "  print(context)\n",
    "  print(\"----\")"
   ]
  },
  {
   "cell_type": "markdown",
   "metadata": {
    "id": "nagiJ6l6noPL"
   },
   "source": [
    "Let's see if it can handle a query that is totally unrelated to the source documents."
   ]
  },
  {
   "cell_type": "code",
   "execution_count": 59,
   "metadata": {
    "id": "HOd2nJKZnsty"
   },
   "outputs": [],
   "source": [
    "response = retrieval_augmented_qa_chain.invoke({\"question\" : \"What is the airspeed velocity of an unladen swallow?\"})"
   ]
  },
  {
   "cell_type": "code",
   "execution_count": 60,
   "metadata": {
    "colab": {
     "base_uri": "https://localhost:8080/",
     "height": 35
    },
    "id": "TmLCKNGZLTh6",
    "outputId": "1f5742aa-e0cb-4952-a879-49070becdd67"
   },
   "outputs": [
    {
     "data": {
      "text/plain": [
       "'The airspeed velocity of an unladen swallow is not mentioned in the provided context. The context discusses legal documents related to a complaint filed by Elon Musk against OpenAI. The information you requested is unrelated to the given context. However, the approximate airspeed velocity of an unladen swallow is around 10-15 mph (16-24 km/h) for the European swallows and slightly faster for the American swallows.'"
      ]
     },
     "execution_count": 60,
     "metadata": {},
     "output_type": "execute_result"
    }
   ],
   "source": [
    "response[\"response\"].content"
   ]
  },
  {
   "cell_type": "code",
   "execution_count": null,
   "metadata": {},
   "outputs": [],
   "source": []
  }
 ],
 "metadata": {
  "accelerator": "GPU",
  "colab": {
   "gpuType": "T4",
   "machine_shape": "hm",
   "provenance": []
  },
  "kernelspec": {
   "display_name": "Python 3 (ipykernel)",
   "language": "python",
   "name": "python3"
  },
  "language_info": {
   "codemirror_mode": {
    "name": "ipython",
    "version": 3
   },
   "file_extension": ".py",
   "mimetype": "text/x-python",
   "name": "python",
   "nbconvert_exporter": "python",
   "pygments_lexer": "ipython3",
   "version": "3.12.4"
  }
 },
 "nbformat": 4,
 "nbformat_minor": 4
}
